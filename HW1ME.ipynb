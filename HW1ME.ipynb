{
 "cells": [
  {
   "cell_type": "code",
   "execution_count": 103,
   "metadata": {},
   "outputs": [],
   "source": [
    "import pandas as pd\n",
    "import numpy as np \n",
    "import statsmodels.api as sm \n",
    "from sklearn.model_selection import train_test_split\n"
   ]
  },
  {
   "cell_type": "code",
   "execution_count": 104,
   "metadata": {},
   "outputs": [
    {
     "name": "stdout",
     "output_type": "stream",
     "text": [
      "<class 'pandas.core.frame.DataFrame'>\n",
      "RangeIndex: 22223 entries, 0 to 22222\n",
      "Data columns (total 8 columns):\n",
      " #   Column     Non-Null Count  Dtype  \n",
      "---  ------     --------------  -----  \n",
      " 0   ID         22223 non-null  int64  \n",
      " 1   DemAffl    21138 non-null  float64\n",
      " 2   DemAge     20715 non-null  float64\n",
      " 3   DemGender  19711 non-null  object \n",
      " 4   PromClass  22223 non-null  object \n",
      " 5   PromSpend  22223 non-null  float64\n",
      " 6   PromTime   21942 non-null  float64\n",
      " 7   TargetBuy  22223 non-null  int64  \n",
      "dtypes: float64(4), int64(2), object(2)\n",
      "memory usage: 1.4+ MB\n"
     ]
    }
   ],
   "source": [
    "org_me = pd.read_csv(\"Organics.csv\")\n",
    "org_me.info()"
   ]
  },
  {
   "cell_type": "code",
   "execution_count": 105,
   "metadata": {},
   "outputs": [
    {
     "data": {
      "text/plain": [
       "ID              0\n",
       "DemAffl      1085\n",
       "DemAge       1508\n",
       "DemGender    2512\n",
       "PromClass       0\n",
       "PromSpend       0\n",
       "PromTime      281\n",
       "TargetBuy       0\n",
       "dtype: int64"
      ]
     },
     "execution_count": 105,
     "metadata": {},
     "output_type": "execute_result"
    }
   ],
   "source": [
    "org_me.isnull().sum()"
   ]
  },
  {
   "cell_type": "code",
   "execution_count": 106,
   "metadata": {},
   "outputs": [
    {
     "data": {
      "text/html": [
       "<div>\n",
       "<style scoped>\n",
       "    .dataframe tbody tr th:only-of-type {\n",
       "        vertical-align: middle;\n",
       "    }\n",
       "\n",
       "    .dataframe tbody tr th {\n",
       "        vertical-align: top;\n",
       "    }\n",
       "\n",
       "    .dataframe thead th {\n",
       "        text-align: right;\n",
       "    }\n",
       "</style>\n",
       "<table border=\"1\" class=\"dataframe\">\n",
       "  <thead>\n",
       "    <tr style=\"text-align: right;\">\n",
       "      <th></th>\n",
       "      <th>DemAffl</th>\n",
       "      <th>DemAge</th>\n",
       "      <th>DemGender</th>\n",
       "      <th>PromClass</th>\n",
       "      <th>PromSpend</th>\n",
       "      <th>PromTime</th>\n",
       "      <th>TargetBuy</th>\n",
       "    </tr>\n",
       "  </thead>\n",
       "  <tbody>\n",
       "    <tr>\n",
       "      <th>2</th>\n",
       "      <td>5.0</td>\n",
       "      <td>70.0</td>\n",
       "      <td>F</td>\n",
       "      <td>Silver</td>\n",
       "      <td>0.02</td>\n",
       "      <td>8.0</td>\n",
       "      <td>1</td>\n",
       "    </tr>\n",
       "    <tr>\n",
       "      <th>3</th>\n",
       "      <td>10.0</td>\n",
       "      <td>65.0</td>\n",
       "      <td>M</td>\n",
       "      <td>Tin</td>\n",
       "      <td>0.01</td>\n",
       "      <td>7.0</td>\n",
       "      <td>1</td>\n",
       "    </tr>\n",
       "    <tr>\n",
       "      <th>4</th>\n",
       "      <td>11.0</td>\n",
       "      <td>68.0</td>\n",
       "      <td>F</td>\n",
       "      <td>Tin</td>\n",
       "      <td>0.01</td>\n",
       "      <td>8.0</td>\n",
       "      <td>0</td>\n",
       "    </tr>\n",
       "    <tr>\n",
       "      <th>6</th>\n",
       "      <td>11.0</td>\n",
       "      <td>74.0</td>\n",
       "      <td>F</td>\n",
       "      <td>Tin</td>\n",
       "      <td>0.01</td>\n",
       "      <td>8.0</td>\n",
       "      <td>0</td>\n",
       "    </tr>\n",
       "    <tr>\n",
       "      <th>7</th>\n",
       "      <td>13.0</td>\n",
       "      <td>62.0</td>\n",
       "      <td>M</td>\n",
       "      <td>Tin</td>\n",
       "      <td>0.01</td>\n",
       "      <td>5.0</td>\n",
       "      <td>0</td>\n",
       "    </tr>\n",
       "  </tbody>\n",
       "</table>\n",
       "</div>"
      ],
      "text/plain": [
       "   DemAffl  DemAge DemGender PromClass  PromSpend  PromTime  TargetBuy\n",
       "2      5.0    70.0         F    Silver       0.02       8.0          1\n",
       "3     10.0    65.0         M       Tin       0.01       7.0          1\n",
       "4     11.0    68.0         F       Tin       0.01       8.0          0\n",
       "6     11.0    74.0         F       Tin       0.01       8.0          0\n",
       "7     13.0    62.0         M       Tin       0.01       5.0          0"
      ]
     },
     "execution_count": 106,
     "metadata": {},
     "output_type": "execute_result"
    }
   ],
   "source": [
    "org_me_nonull = org_me.dropna()\n",
    "org_clean = org_me_nonull.drop(columns=['ID',])\n",
    "org_clean = org_clean[org_clean[\"DemGender\"] != 'U']\n",
    "org_clean.head()"
   ]
  },
  {
   "cell_type": "code",
   "execution_count": 116,
   "metadata": {},
   "outputs": [
    {
     "name": "stdout",
     "output_type": "stream",
     "text": [
      "<class 'pandas.core.frame.DataFrame'>\n",
      "Index: 15730 entries, 2 to 22221\n",
      "Data columns (total 9 columns):\n",
      " #   Column              Non-Null Count  Dtype  \n",
      "---  ------              --------------  -----  \n",
      " 0   DemAffl             15730 non-null  float64\n",
      " 1   DemAge              15730 non-null  float64\n",
      " 2   PromSpend           15730 non-null  float64\n",
      " 3   PromTime            15730 non-null  float64\n",
      " 4   TargetBuy           15730 non-null  int64  \n",
      " 5   DemGender_M         15730 non-null  int32  \n",
      " 6   PromClass_Platinum  15730 non-null  int32  \n",
      " 7   PromClass_Silver    15730 non-null  int32  \n",
      " 8   PromClass_Tin       15730 non-null  int32  \n",
      "dtypes: float64(4), int32(4), int64(1)\n",
      "memory usage: 983.1 KB\n"
     ]
    }
   ],
   "source": [
    "# Dummy code variable PromClass\n",
    "dummy_org_me_nonull = pd.get_dummies(org_clean, drop_first=True, dtype = int)\n",
    "dummy_org_me_nonull.info()"
   ]
  },
  {
   "cell_type": "code",
   "execution_count": 108,
   "metadata": {},
   "outputs": [],
   "source": [
    "y = np.array(dummy_org_me_nonull[\"TargetBuy\"])\n",
    "x = dummy_org_me_nonull[[\"DemAffl\", \"DemAge\", \n",
    "                         \"DemGender_M\", ]]\n",
    "\n",
    "\n"
   ]
  },
  {
   "cell_type": "code",
   "execution_count": 109,
   "metadata": {},
   "outputs": [],
   "source": [
    "x_train, x_test, y_train, y_test = train_test_split(\n",
    "    x, y, test_size= 0.3, random_state = 44)"
   ]
  },
  {
   "cell_type": "code",
   "execution_count": 110,
   "metadata": {},
   "outputs": [],
   "source": [
    "x_train = sm.add_constant(x_train)\n",
    "x_test = sm.add_constant(x_test)\n"
   ]
  },
  {
   "cell_type": "code",
   "execution_count": 111,
   "metadata": {},
   "outputs": [
    {
     "name": "stdout",
     "output_type": "stream",
     "text": [
      "Optimization terminated successfully.\n",
      "         Current function value: 0.468199\n",
      "         Iterations 6\n",
      "                           Logit Regression Results                           \n",
      "==============================================================================\n",
      "Dep. Variable:                      y   No. Observations:                11011\n",
      "Model:                          Logit   Df Residuals:                    11007\n",
      "Method:                           MLE   Df Model:                            3\n",
      "Date:                Thu, 08 Feb 2024   Pseudo R-squ.:                  0.2154\n",
      "Time:                        16:50:20   Log-Likelihood:                -5155.3\n",
      "converged:                       True   LL-Null:                       -6571.0\n",
      "Covariance Type:            nonrobust   LLR p-value:                     0.000\n",
      "===============================================================================\n",
      "                  coef    std err          z      P>|z|      [0.025      0.975]\n",
      "-------------------------------------------------------------------------------\n",
      "const          -0.2293      0.122     -1.876      0.061      -0.469       0.010\n",
      "DemAffl         0.2557      0.008     32.150      0.000       0.240       0.271\n",
      "DemAge         -0.0542      0.002    -27.871      0.000      -0.058      -0.050\n",
      "DemGender_M    -1.0303      0.058    -17.751      0.000      -1.144      -0.917\n",
      "===============================================================================\n"
     ]
    }
   ],
   "source": [
    "model_me = sm.Logit(y_train, x_train)\n",
    "result_me = model_me.fit()\n",
    "print(result_me.summary())"
   ]
  },
  {
   "cell_type": "code",
   "execution_count": 112,
   "metadata": {},
   "outputs": [
    {
     "data": {
      "text/html": [
       "<div>\n",
       "<style scoped>\n",
       "    .dataframe tbody tr th:only-of-type {\n",
       "        vertical-align: middle;\n",
       "    }\n",
       "\n",
       "    .dataframe tbody tr th {\n",
       "        vertical-align: top;\n",
       "    }\n",
       "\n",
       "    .dataframe thead th {\n",
       "        text-align: right;\n",
       "    }\n",
       "</style>\n",
       "<table border=\"1\" class=\"dataframe\">\n",
       "  <thead>\n",
       "    <tr style=\"text-align: right;\">\n",
       "      <th></th>\n",
       "      <th>const</th>\n",
       "      <th>DemAffl</th>\n",
       "      <th>DemAge</th>\n",
       "      <th>DemGender_M</th>\n",
       "      <th>Prediction_prob</th>\n",
       "    </tr>\n",
       "  </thead>\n",
       "  <tbody>\n",
       "    <tr>\n",
       "      <th>21066</th>\n",
       "      <td>1.0</td>\n",
       "      <td>11.0</td>\n",
       "      <td>69.0</td>\n",
       "      <td>1</td>\n",
       "      <td>0.100862</td>\n",
       "    </tr>\n",
       "    <tr>\n",
       "      <th>15601</th>\n",
       "      <td>1.0</td>\n",
       "      <td>7.0</td>\n",
       "      <td>63.0</td>\n",
       "      <td>1</td>\n",
       "      <td>0.052893</td>\n",
       "    </tr>\n",
       "    <tr>\n",
       "      <th>11112</th>\n",
       "      <td>1.0</td>\n",
       "      <td>14.0</td>\n",
       "      <td>45.0</td>\n",
       "      <td>0</td>\n",
       "      <td>0.713145</td>\n",
       "    </tr>\n",
       "    <tr>\n",
       "      <th>5495</th>\n",
       "      <td>1.0</td>\n",
       "      <td>6.0</td>\n",
       "      <td>57.0</td>\n",
       "      <td>1</td>\n",
       "      <td>0.056490</td>\n",
       "    </tr>\n",
       "    <tr>\n",
       "      <th>20133</th>\n",
       "      <td>1.0</td>\n",
       "      <td>12.0</td>\n",
       "      <td>65.0</td>\n",
       "      <td>1</td>\n",
       "      <td>0.152496</td>\n",
       "    </tr>\n",
       "  </tbody>\n",
       "</table>\n",
       "</div>"
      ],
      "text/plain": [
       "       const  DemAffl  DemAge  DemGender_M  Prediction_prob\n",
       "21066    1.0     11.0    69.0            1         0.100862\n",
       "15601    1.0      7.0    63.0            1         0.052893\n",
       "11112    1.0     14.0    45.0            0         0.713145\n",
       "5495     1.0      6.0    57.0            1         0.056490\n",
       "20133    1.0     12.0    65.0            1         0.152496"
      ]
     },
     "execution_count": 112,
     "metadata": {},
     "output_type": "execute_result"
    }
   ],
   "source": [
    "x_test[\"Prediction_prob\"] = result_me.predict(x_test)\n",
    "x_test.head()"
   ]
  },
  {
   "cell_type": "code",
   "execution_count": 113,
   "metadata": {},
   "outputs": [
    {
     "data": {
      "text/plain": [
       "21066    0\n",
       "15601    0\n",
       "11112    1\n",
       "5495     0\n",
       "20133    0\n",
       "        ..\n",
       "17574    0\n",
       "9918     0\n",
       "21881    0\n",
       "16943    0\n",
       "13919    0\n",
       "Name: Prediction_prob, Length: 4719, dtype: int32"
      ]
     },
     "execution_count": 113,
     "metadata": {},
     "output_type": "execute_result"
    }
   ],
   "source": [
    "predictions_me = (x_test[\"Prediction_prob\"] >= 0.5).astype(int)\n",
    "predictions_me"
   ]
  },
  {
   "cell_type": "code",
   "execution_count": 114,
   "metadata": {},
   "outputs": [
    {
     "data": {
      "text/plain": [
       "array([[3118,  249],\n",
       "       [ 785,  567]], dtype=int64)"
      ]
     },
     "execution_count": 114,
     "metadata": {},
     "output_type": "execute_result"
    }
   ],
   "source": [
    "from sklearn import metrics\n",
    "conf_matrix_me = metrics.confusion_matrix(y_test, predictions_me)\n",
    "conf_matrix_me"
   ]
  },
  {
   "cell_type": "code",
   "execution_count": 115,
   "metadata": {},
   "outputs": [
    {
     "name": "stdout",
     "output_type": "stream",
     "text": [
      "F1 Score:  0.5230627306273062\n",
      "Accuracy:  0.7808857808857809\n",
      "Precision:  0.6948529411764706\n",
      "Recall:  0.4193786982248521\n"
     ]
    }
   ],
   "source": [
    "from sklearn.metrics import f1_score, accuracy_score, precision_score, recall_score\n",
    "\n",
    "f1 = f1_score(y_test, predictions_me)\n",
    "accuracy = accuracy_score(y_test, predictions_me)\n",
    "precision = precision_score(y_test, predictions_me)\n",
    "recall = recall_score(y_test, predictions_me)\n",
    "\n",
    "print(\"F1 Score: \", f1)\n",
    "print(\"Accuracy: \", accuracy)\n",
    "print(\"Precision: \", precision)\n",
    "print(\"Recall: \", recall)"
   ]
  }
 ],
 "metadata": {
  "kernelspec": {
   "display_name": "Python 3",
   "language": "python",
   "name": "python3"
  },
  "language_info": {
   "codemirror_mode": {
    "name": "ipython",
    "version": 3
   },
   "file_extension": ".py",
   "mimetype": "text/x-python",
   "name": "python",
   "nbconvert_exporter": "python",
   "pygments_lexer": "ipython3",
   "version": "3.10.11"
  }
 },
 "nbformat": 4,
 "nbformat_minor": 2
}
