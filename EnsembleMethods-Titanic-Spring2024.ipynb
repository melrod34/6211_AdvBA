{
 "cells": [
  {
   "cell_type": "code",
   "execution_count": 6,
   "id": "bc2d91f2",
   "metadata": {},
   "outputs": [],
   "source": [
    "# Decision Tree, Random Forest, Bagging and Boosting"
   ]
  },
  {
   "cell_type": "code",
   "execution_count": 7,
   "id": "b8ed4fad",
   "metadata": {},
   "outputs": [],
   "source": [
    "# import common libraries\n",
    "import pandas as pd\n",
    "import numpy as np\n",
    "from sklearn.model_selection import train_test_split\n",
    "from sklearn import metrics"
   ]
  },
  {
   "cell_type": "code",
   "execution_count": 8,
   "id": "dc6211ae",
   "metadata": {},
   "outputs": [],
   "source": [
    "# Load and prepare dataset\n",
    "titan = pd.read_csv(\"titanic.csv\")\n",
    "titan = titan.dropna()\n",
    "\n",
    "titan = titan.drop([\"Name\"], axis = 1)\n",
    "\n",
    "# preparing the dependent and independent variables\n",
    "# Dummy coding using pd.get_dummies() and checking dtypes of coded variables\n",
    "\n",
    "titan = pd.get_dummies(titan, drop_first = True, dtype = int)\n",
    "\n",
    "# make y (dependent variable) as np.array\n",
    "y = np.array(titan[\"Survival_Survived\"])\n",
    "\n",
    "# make x a dataframe subset with independent variables\n",
    "X = titan[[\"Age\", \"Gender_Male\", \"Class_2nd\", \"Class_3rd\", \"Fare\"]]\n",
    "\n",
    "# Split dataset into training and testing data\n",
    "X_train, X_test, y_train, y_test = train_test_split(X, y, test_size=0.3, random_state=42)\n"
   ]
  },
  {
   "cell_type": "code",
   "execution_count": 9,
   "id": "973e99ce",
   "metadata": {},
   "outputs": [],
   "source": [
    "# Decision tree with gini index\n",
    "from sklearn.tree import DecisionTreeClassifier\n",
    "\n",
    "# Create a Decision Tree Classifier using Gini index\n",
    "clf_gini = DecisionTreeClassifier(criterion='gini', random_state=42)\n",
    "\n",
    "# Train the model\n",
    "clf_gini.fit(X_train, y_train)\n",
    "\n",
    "# Predict the responses for test dataset\n",
    "y_pred_dt = clf_gini.predict(X_test)\n"
   ]
  },
  {
   "cell_type": "code",
   "execution_count": 10,
   "id": "862a6662",
   "metadata": {},
   "outputs": [
    {
     "name": "stdout",
     "output_type": "stream",
     "text": [
      "\n",
      "Accuracy: 0.7197452229299363\n",
      "\n",
      "Confusion Matrix:\n",
      " [[142  33]\n",
      " [ 55  84]]\n"
     ]
    }
   ],
   "source": [
    "# Calculate accuracy\n",
    "accuracy = metrics.accuracy_score(y_test, y_pred_dt)\n",
    "\n",
    "# Calculate confusion matrix\n",
    "conf_matrix = metrics.confusion_matrix(y_test, y_pred_dt)\n",
    "\n",
    "# Print accuracy, and confusion matrix\n",
    "print(\"\\nAccuracy:\", accuracy)\n",
    "print(\"\\nConfusion Matrix:\\n\", conf_matrix)"
   ]
  },
  {
   "cell_type": "code",
   "execution_count": 11,
   "id": "be091ffb",
   "metadata": {},
   "outputs": [],
   "source": [
    "# Bagging\n",
    "\n",
    "from sklearn.ensemble import BaggingClassifier\n",
    "from sklearn.tree import DecisionTreeClassifier\n",
    "\n",
    "# Create a Bagging Classifier with a Decision Tree\n",
    "bagging_clf = BaggingClassifier(DecisionTreeClassifier(), n_estimators=100, \n",
    "                                max_samples=1.0, random_state=42)\n",
    "\n",
    "# Train the model\n",
    "bagging_clf.fit(X_train, y_train)\n",
    "\n",
    "# Model predictions\n",
    "y_pred_bag = bagging_clf.predict(X_test)"
   ]
  },
  {
   "cell_type": "code",
   "execution_count": 12,
   "id": "3e7bba7f",
   "metadata": {},
   "outputs": [
    {
     "name": "stdout",
     "output_type": "stream",
     "text": [
      "\n",
      "Accuracy: 0.7770700636942676\n",
      "\n",
      "Confusion Matrix:\n",
      " [[150  25]\n",
      " [ 45  94]]\n"
     ]
    }
   ],
   "source": [
    "# Calculate accuracy and confusion matrix of Bagging\n",
    "accuracy = metrics.accuracy_score(y_test, y_pred_bag)\n",
    "\n",
    "# Calculate confusion matrix\n",
    "conf_matrix = metrics.confusion_matrix(y_test, y_pred_bag)\n",
    "\n",
    "# Print accuracy, and confusion matrix\n",
    "print(\"\\nAccuracy:\", accuracy)\n",
    "print(\"\\nConfusion Matrix:\\n\", conf_matrix)"
   ]
  },
  {
   "cell_type": "code",
   "execution_count": 13,
   "id": "ea003cd1",
   "metadata": {},
   "outputs": [],
   "source": [
    "# Random Forest Classifier\n",
    "from sklearn.ensemble import RandomForestClassifier\n",
    "\n",
    "# Create a Random Forest Classifier\n",
    "clf = RandomForestClassifier(n_estimators=1000, random_state=42)\n",
    "\n",
    "# Train the model\n",
    "clf.fit(X_train, y_train)\n",
    "\n",
    "# Model predictions\n",
    "y_pred_rf = clf.predict(X_test)"
   ]
  },
  {
   "cell_type": "code",
   "execution_count": 14,
   "id": "866d4df9",
   "metadata": {},
   "outputs": [
    {
     "name": "stdout",
     "output_type": "stream",
     "text": [
      "\n",
      "Accuracy: 0.7802547770700637\n",
      "\n",
      "Confusion Matrix:\n",
      " [[149  26]\n",
      " [ 43  96]]\n"
     ]
    }
   ],
   "source": [
    "# Calculate accuracy of Random Forest\n",
    "accuracy = metrics.accuracy_score(y_test, y_pred_rf)\n",
    "\n",
    "# Calculate confusion matrix\n",
    "conf_matrix = metrics.confusion_matrix(y_test, y_pred_rf)\n",
    "\n",
    "# Print accuracy, and confusion matrix\n",
    "print(\"\\nAccuracy:\", accuracy)\n",
    "print(\"\\nConfusion Matrix:\\n\", conf_matrix)"
   ]
  },
  {
   "cell_type": "code",
   "execution_count": 15,
   "id": "d3747051",
   "metadata": {},
   "outputs": [],
   "source": [
    "# AdaBoost Classifier\n",
    "\n",
    "from sklearn.ensemble import AdaBoostClassifier\n",
    "from sklearn.tree import DecisionTreeClassifier\n",
    "\n",
    "# Create an AdaBoosting Classifier\n",
    "ab_clf = AdaBoostClassifier(DecisionTreeClassifier(), n_estimators=100, learning_rate=1.0, \n",
    "                            random_state=42)\n",
    "\n",
    "# Train the model\n",
    "ab_clf.fit(X_train, y_train)\n",
    "\n",
    "# Model predictions\n",
    "y_pred_ab = ab_clf.predict(X_test)"
   ]
  },
  {
   "cell_type": "code",
   "execution_count": 16,
   "id": "0a090f36",
   "metadata": {},
   "outputs": [
    {
     "name": "stdout",
     "output_type": "stream",
     "text": [
      "\n",
      "Accuracy: 0.7356687898089171\n",
      "\n",
      "Confusion Matrix:\n",
      " [[142  33]\n",
      " [ 50  89]]\n"
     ]
    }
   ],
   "source": [
    "# Calculate accuracy of Gradient Boost\n",
    "accuracy = metrics.accuracy_score(y_test, y_pred_ab)\n",
    "\n",
    "# Calculate confusion matrix\n",
    "conf_matrix = metrics.confusion_matrix(y_test, y_pred_ab)\n",
    "\n",
    "# Print accuracy, and confusion matrix\n",
    "print(\"\\nAccuracy:\", accuracy)\n",
    "print(\"\\nConfusion Matrix:\\n\", conf_matrix)"
   ]
  },
  {
   "cell_type": "code",
   "execution_count": 17,
   "id": "66a0853a",
   "metadata": {},
   "outputs": [],
   "source": [
    "# Gradient Boost Classifier\n",
    "\n",
    "from sklearn.ensemble import GradientBoostingClassifier\n",
    "\n",
    "# Create a Gradient Boosting Classifier\n",
    "gb_clf = GradientBoostingClassifier(n_estimators=100, learning_rate=1.0, max_depth=1, \n",
    "                                    random_state=42)\n",
    "\n",
    "# Train the model\n",
    "gb_clf.fit(X_train, y_train)\n",
    "\n",
    "# Model predictions\n",
    "y_pred_gb = gb_clf.predict(X_test)"
   ]
  },
  {
   "cell_type": "code",
   "execution_count": 18,
   "id": "697f10c9",
   "metadata": {},
   "outputs": [
    {
     "name": "stdout",
     "output_type": "stream",
     "text": [
      "\n",
      "Accuracy: 0.7515923566878981\n",
      "\n",
      "Confusion Matrix:\n",
      " [[150  25]\n",
      " [ 53  86]]\n"
     ]
    }
   ],
   "source": [
    "# Calculate accuracy of Gradient Boost\n",
    "accuracy = metrics.accuracy_score(y_test, y_pred_gb)\n",
    "\n",
    "# Calculate confusion matrix\n",
    "conf_matrix = metrics.confusion_matrix(y_test, y_pred_gb)\n",
    "\n",
    "# Print accuracy, and confusion matrix\n",
    "print(\"\\nAccuracy:\", accuracy)\n",
    "print(\"\\nConfusion Matrix:\\n\", conf_matrix)"
   ]
  },
  {
   "cell_type": "code",
   "execution_count": null,
   "id": "ff579f34",
   "metadata": {},
   "outputs": [],
   "source": []
  }
 ],
 "metadata": {
  "kernelspec": {
   "display_name": "Python 3 (ipykernel)",
   "language": "python",
   "name": "python3"
  },
  "language_info": {
   "codemirror_mode": {
    "name": "ipython",
    "version": 3
   },
   "file_extension": ".py",
   "mimetype": "text/x-python",
   "name": "python",
   "nbconvert_exporter": "python",
   "pygments_lexer": "ipython3",
   "version": "3.9.7"
  }
 },
 "nbformat": 4,
 "nbformat_minor": 5
}
