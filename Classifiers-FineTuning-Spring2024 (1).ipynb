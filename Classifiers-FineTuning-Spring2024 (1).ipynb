{
 "cells": [
  {
   "cell_type": "code",
   "execution_count": 1,
   "id": "78f3102a",
   "metadata": {},
   "outputs": [],
   "source": [
    "# Fine tuning classifiers - Example using Titanic dataset"
   ]
  },
  {
   "cell_type": "code",
   "execution_count": 2,
   "id": "0b1ec226",
   "metadata": {},
   "outputs": [],
   "source": [
    "# import common libraries\n",
    "import pandas as pd\n",
    "import numpy as np\n",
    "from matplotlib import pyplot as plt\n",
    "from sklearn.datasets import make_classification\n",
    "from sklearn.model_selection import train_test_split\n",
    "from sklearn import metrics\n"
   ]
  },
  {
   "cell_type": "code",
   "execution_count": 3,
   "id": "9758cd4e",
   "metadata": {},
   "outputs": [],
   "source": [
    "# Load data and prepare dataset\n",
    "titan = pd.read_csv(\"titanic.csv\")\n",
    "titan = titan.dropna()\n",
    "\n",
    "titan = titan.drop([\"Name\"], axis = 1)\n",
    "\n",
    "# preparing the dependent and independent variables\n",
    "# Dummy coding using pd.get_dummies() and checking dtypes of coded variables\n",
    "\n",
    "titan = pd.get_dummies(titan, drop_first = True, dtype = int)\n",
    "\n",
    "# make y (dependent variable) as np.array\n",
    "y = np.array(titan[\"Survival_Survived\"])\n",
    "\n",
    "# make x a dataframe subset with independent variables\n",
    "X = titan[[\"Age\", \"Gender_Male\", \"Class_2nd\", \"Class_3rd\", \"Fare\"]]\n",
    "\n",
    "# Split dataset into training and testing data\n",
    "X_train, X_test, y_train, y_test = train_test_split(X, y, test_size=0.3, random_state=42)\n"
   ]
  },
  {
   "cell_type": "code",
   "execution_count": 4,
   "id": "e485ac5d",
   "metadata": {},
   "outputs": [
    {
     "name": "stdout",
     "output_type": "stream",
     "text": [
      "\n",
      "Accuracy: 0.7197452229299363\n",
      "\n",
      "Confusion Matrix:\n",
      " [[142  33]\n",
      " [ 55  84]]\n"
     ]
    }
   ],
   "source": [
    "# Decision tree with gini index\n",
    "from sklearn.tree import DecisionTreeClassifier\n",
    "\n",
    "# Create a Decision Tree Classifier using Gini index\n",
    "clf_gini = DecisionTreeClassifier(criterion='gini', random_state=42)\n",
    "\n",
    "# Train the model\n",
    "clf_gini.fit(X_train, y_train)\n",
    "\n",
    "# Predict the responses for test dataset\n",
    "y_pred_dt = clf_gini.predict(X_test)\n",
    "\n",
    "# Calculate accuracy\n",
    "accuracy = metrics.accuracy_score(y_test, y_pred_dt)\n",
    "\n",
    "# Calculate confusion matrix\n",
    "conf_matrix = metrics.confusion_matrix(y_test, y_pred_dt)\n",
    "\n",
    "# Print accuracy, and confusion matrix\n",
    "print(\"\\nAccuracy:\", accuracy)\n",
    "print(\"\\nConfusion Matrix:\\n\", conf_matrix)\n"
   ]
  },
  {
   "cell_type": "code",
   "execution_count": 5,
   "id": "637aa8a2",
   "metadata": {},
   "outputs": [
    {
     "name": "stdout",
     "output_type": "stream",
     "text": [
      "\n",
      "Accuracy: 0.7707006369426752\n",
      "\n",
      "Confusion Matrix:\n",
      " [[148  27]\n",
      " [ 45  94]]\n"
     ]
    }
   ],
   "source": [
    "# Random Forest\n",
    "# import Random Forest Classifier from sklearn\n",
    "from sklearn.ensemble import RandomForestClassifier\n",
    "\n",
    "# Create a Random Forest Classifier\n",
    "clf = RandomForestClassifier(n_estimators=100, random_state=10)\n",
    "\n",
    "# Train the model\n",
    "clf.fit(X_train, y_train)\n",
    "\n",
    "# Model predictions\n",
    "y_pred_rf = clf.predict(X_test)\n",
    "\n",
    "# Calculate accuracy\n",
    "accuracy = metrics.accuracy_score(y_test, y_pred_rf)\n",
    "\n",
    "# Calculate confusion matrix\n",
    "conf_matrix = metrics.confusion_matrix(y_test, y_pred_rf)\n",
    "\n",
    "print(\"\\nAccuracy:\", accuracy)\n",
    "print(\"\\nConfusion Matrix:\\n\", conf_matrix)\n"
   ]
  },
  {
   "cell_type": "code",
   "execution_count": 6,
   "id": "79cf9d0b",
   "metadata": {},
   "outputs": [
    {
     "name": "stdout",
     "output_type": "stream",
     "text": [
      "\n",
      "Accuracy: 0.732484076433121\n",
      "\n",
      "Confusion Matrix:\n",
      " [[141  34]\n",
      " [ 50  89]]\n"
     ]
    }
   ],
   "source": [
    "# SVM with Titanic dataset\n",
    "# import SVC from sklearn\n",
    "from sklearn.svm import SVC\n",
    "\n",
    "# Initialize SVM classifier with a linear kernel\n",
    "svm_classifier = SVC(kernel='linear', random_state=42)\n",
    "\n",
    "# Train the model on the training set\n",
    "svm_classifier.fit(X_train, y_train)\n",
    "\n",
    "# Predict the responses for the test set\n",
    "y_pred_svm = svm_classifier.predict(X_test)\n",
    "\n",
    "# Calculate accuracy\n",
    "accuracy = metrics.accuracy_score(y_test, y_pred_svm)\n",
    "\n",
    "# Calculate confusion matrix\n",
    "conf_matrix = metrics.confusion_matrix(y_test, y_pred_svm)\n",
    "\n",
    "print(\"\\nAccuracy:\", accuracy)\n",
    "print(\"\\nConfusion Matrix:\\n\", conf_matrix)\n"
   ]
  },
  {
   "cell_type": "code",
   "execution_count": 8,
   "id": "31efdb5a",
   "metadata": {},
   "outputs": [
    {
     "name": "stdout",
     "output_type": "stream",
     "text": [
      "Start search time: 2024-02-08 16:52:11.254808\n",
      "Fitting 5 folds for each of 36 candidates, totalling 180 fits\n",
      "Best parameters: {'criterion': 'gini', 'max_depth': 6, 'max_features': 'sqrt', 'n_estimators': 300}\n",
      "Best estimator: RandomForestClassifier(max_depth=6, max_features='sqrt', n_estimators=300,\n",
      "                       random_state=10)\n",
      "Feature importance: [0.18602099 0.47984834 0.02101462 0.10508456 0.20803149]\n",
      "End search time: 2024-02-08 16:53:04.893734\n",
      "\n",
      "Accuracy: 0.7707006369426752\n"
     ]
    },
    {
     "data": {
      "image/png": "[encoded data removed]",
      "text/plain": [
       "<Figure size 432x288 with 2 Axes>"
      ]
     },
     "metadata": {
      "needs_background": "light"
     },
     "output_type": "display_data"
    }
   ],
   "source": [
    "# Random Forest - Fine tuning with GridSearchCV\n",
    "# using datetime to time the fine tuning process\n",
    "from datetime import datetime\n",
    "print(\"Start search time:\", datetime.now())\n",
    "\n",
    "from sklearn.ensemble import RandomForestClassifier\n",
    "\n",
    "# find the best parameters \n",
    "from sklearn.model_selection import GridSearchCV\n",
    "\n",
    "# RF -- Tunning parameters \n",
    "# Define the parameter grid\n",
    "param = {\n",
    "    'n_estimators': [100, 200, 300],  # Number of trees in the forest\n",
    "    'max_features': ['sqrt', 'log2'],  # Number of features to consider at every split\n",
    "    'max_depth': [4, 6, 8],  # Maximum number of levels in tree\n",
    "    'criterion': ['gini', 'entropy']  # Function to measure the quality of a split\n",
    "}\n",
    "\n",
    "RF = RandomForestClassifier(random_state=10)\n",
    "\n",
    "# search parameters: cv=cross validation blocks; verbose=higher value show more steps\n",
    "# n_jobs=-1 uses all available CPU cores; \n",
    "grid = GridSearchCV(estimator=RF, \n",
    "                    param_grid=param,\n",
    "                    scoring=\"accuracy\",\n",
    "                    verbose=1, cv=5)\n",
    "\n",
    "grid.fit(X_train, y_train)\n",
    "\n",
    "print(\"Best parameters:\", grid.best_params_)\n",
    "\n",
    "print(\"Best estimator:\", grid.best_estimator_)\n",
    "\n",
    "print(\"Feature importance:\", grid.best_estimator_.feature_importances_)\n",
    "\n",
    "# end grid search\n",
    "print(\"End search time:\", datetime.now())\n",
    "\n",
    "# confusion matrix \n",
    "\n",
    "final_model_rf = grid.best_estimator_\n",
    "\n",
    "y_pred = final_model_rf.predict(X_test)\n",
    "\n",
    "# get accuracy and confusion matrix\n",
    "accuracy = metrics.accuracy_score(y_test, y_pred)\n",
    "print(\"\\nAccuracy:\", accuracy)\n",
    "\n",
    "cm = metrics.confusion_matrix(y_test,y_pred) # row - true value; column - predicted\n",
    "disp = metrics.ConfusionMatrixDisplay(confusion_matrix=cm).plot()\n"
   ]
  },
  {
   "cell_type": "code",
   "execution_count": 9,
   "id": "72bfe749",
   "metadata": {},
   "outputs": [
    {
     "name": "stdout",
     "output_type": "stream",
     "text": [
      "Start search time: 2024-02-08 16:56:56.249220\n",
      "Fitting 5 folds for each of 50 candidates, totalling 250 fits\n",
      "Best parameters: {'C': 0.1, 'gamma': 0.1, 'kernel': 'linear'}\n",
      "Best estimator: SVC(C=0.1, gamma=0.1, kernel='linear')\n",
      "End search time: 2024-02-08 17:27:56.145941\n",
      "\n",
      "Accuracy: 0.732484076433121\n"
     ]
    },
    {
     "data": {
      "image/png": "[encoded data removed]",
      "text/plain": [
       "<Figure size 432x288 with 2 Axes>"
      ]
     },
     "metadata": {
      "needs_background": "light"
     },
     "output_type": "display_data"
    }
   ],
   "source": [
    "# SVM - Fine tuning with GridSearchCV\n",
    "# using datetime to time the fine tuning process\n",
    "from datetime import datetime\n",
    "print(\"Start search time:\", datetime.now())\n",
    "\n",
    "# find the best parameters \n",
    "from sklearn.model_selection import GridSearchCV\n",
    "\n",
    "# SVM -- Tunning parameters \n",
    "param = {\n",
    "    'C':[0.01, 0.1, 1, 10, 100],\n",
    "    'gamma': [0.1, 0.25, 0.5, 0.75, 1 ], # 1/n_features\n",
    "    'kernel': ['rbf', 'linear'] \n",
    "}\n",
    "\n",
    "SVM = SVC()\n",
    "\n",
    "# search parameters: cv=cross validation blocks; verbose=higher value show more steps\n",
    "# n_jobs=-1 uses all available CPU cores; \n",
    "grid = GridSearchCV(estimator=SVM, \n",
    "                    param_grid=param,\n",
    "                    scoring=\"accuracy\",\n",
    "                    verbose=1, cv=5)\n",
    "\n",
    "grid.fit(X_train, y_train)\n",
    "\n",
    "print(\"Best parameters:\", grid.best_params_)\n",
    "\n",
    "print(\"Best estimator:\", grid.best_estimator_)\n",
    "\n",
    "# end grid search\n",
    "print(\"End search time:\", datetime.now())\n",
    "\n",
    "# confusion matrix \n",
    "\n",
    "final_model_svm = grid.best_estimator_\n",
    "\n",
    "y_pred = final_model_svm.predict(X_test)\n",
    "\n",
    "# get accuracy and confusion matrix\n",
    "accuracy = metrics.accuracy_score(y_test, y_pred)\n",
    "print(\"\\nAccuracy:\", accuracy)\n",
    "\n",
    "cm = metrics.confusion_matrix(y_test,y_pred) # row - true value; column - predicted\n",
    "disp = metrics.ConfusionMatrixDisplay(confusion_matrix=cm).plot()\n",
    "# disp.plot()\n",
    "plt.show() # display all open figures \n"
   ]
  },
  {
   "cell_type": "code",
   "execution_count": null,
   "id": "7e2f28d9",
   "metadata": {},
   "outputs": [],
   "source": [
    "# RF ROC Curve & Area Under Curve \n",
    "# roc and auc -- decision tree \n",
    "from sklearn.metrics import roc_curve\n",
    "from sklearn.metrics import roc_auc_score\n",
    "\n",
    "predic_prob =final_model_rf.predict_proba(X_test) # Probability estimates [0,1]\n",
    "rf_auc = roc_auc_score(y_test, predic_prob[:,1])\n",
    "print(\"ROC Area Under Curve:\", rf_auc)\n",
    "\n",
    "# visualization of roc \n",
    "rf_fpr, rf_tpr, threshold =roc_curve(y_test, predic_prob[:,1])\n",
    "\n",
    "plt.plot(rf_fpr,rf_tpr,marker='.')\n",
    "\n",
    "plt.xlabel('False Positive Rate')\n",
    "plt.ylabel('True Positive Rate')\n",
    "\n",
    "plt.show()"
   ]
  }
 ],
 "metadata": {
  "kernelspec": {
   "display_name": "Python 3 (ipykernel)",
   "language": "python",
   "name": "python3"
  },
  "language_info": {
   "codemirror_mode": {
    "name": "ipython",
    "version": 3
   },
   "file_extension": ".py",
   "mimetype": "text/x-python",
   "name": "python",
   "nbconvert_exporter": "python",
   "pygments_lexer": "ipython3",
   "version": "3.9.7"
  }
 },
 "nbformat": 4,
 "nbformat_minor": 5
}
